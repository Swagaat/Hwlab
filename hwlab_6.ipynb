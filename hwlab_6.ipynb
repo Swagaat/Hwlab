{
  "nbformat": 4,
  "nbformat_minor": 0,
  "metadata": {
    "colab": {
      "provenance": [],
      "authorship_tag": "ABX9TyPM4f4cH/N5zCmHfA1LcTyh",
      "include_colab_link": true
    },
    "kernelspec": {
      "name": "python3",
      "display_name": "Python 3"
    },
    "language_info": {
      "name": "python"
    }
  },
  "cells": [
    {
      "cell_type": "markdown",
      "metadata": {
        "id": "view-in-github",
        "colab_type": "text"
      },
      "source": [
        "<a href=\"https://colab.research.google.com/github/Swagaat/Hwlab/blob/main/hwlab_6.ipynb\" target=\"_parent\"><img src=\"https://colab.research.google.com/assets/colab-badge.svg\" alt=\"Open In Colab\"/></a>"
      ]
    },
    {
      "cell_type": "code",
      "execution_count": null,
      "metadata": {
        "id": "L95uU8kTvPoU"
      },
      "outputs": [],
      "source": [
        "import math\n",
        "MAX = 10000;\n",
        " \n",
        "primes = [];\n",
        " \n",
        "def foo():\n",
        "\n",
        "    fun = [False] * (int(MAX / 2) + 100);\n",
        "    for i in range(1, int((math.sqrt(MAX) - 1) / 2) + 1):\n",
        "        for j in range((i * (i + 1)) << 1,\n",
        "                        int(MAX / 2) + 1, 2 * i + 1):\n",
        "            fun[j] = True\n",
        " \n",
        "    primes.append(2);\n",
        "    for i in range(1, int(MAX / 2) + 1):\n",
        "        if (fun[i] == False):\n",
        "            primes.append(2 * i + 1)\n",
        "def findPrimes():\n",
        "    n = eval(input('Enter number:'))\n",
        "    if (n < 2 or n % 2 != 0):\n",
        "        print(\"Invalid Input\")\n",
        "        return\n",
        "    i = 0\n",
        "    while (primes[i] <= n // 2):\n",
        "        diff = n - primes[i];\n",
        "        if diff in primes:\n",
        "            print(primes[i], \"+\", diff, \"=\", n)\n",
        "            return;\n",
        "        i += 1\n",
        "foo();\n",
        "findPrimes()\n",
        "findPrimes()"
      ]
    },
    {
      "cell_type": "code",
      "source": [
        "def main():\n",
        " nums = [1, 0, 3, 0, 5, 0, 4]\n",
        " new_list = [n for n in nums if n != 0] + [n for n in nums if n == 0]\n",
        " print(new_list)\n",
        "main()"
      ],
      "metadata": {
        "id": "KCT6LcjyxdIy"
      },
      "execution_count": null,
      "outputs": []
    }
  ]
}